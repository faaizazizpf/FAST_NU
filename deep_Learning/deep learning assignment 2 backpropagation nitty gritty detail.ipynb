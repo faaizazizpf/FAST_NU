{
 "cells": [
  {
   "cell_type": "markdown",
   "id": "95875501",
   "metadata": {},
   "source": [
    "function 1 sigmoid"
   ]
  },
  {
   "cell_type": "code",
   "execution_count": null,
   "id": "c2ceec6a",
   "metadata": {},
   "outputs": [],
   "source": [
    "import numpy as np\n",
    "\n",
    "def sigmoid(x):\n",
    "    sigval=1/(1+np.exp(-x))\n",
    "    return sigval"
   ]
  },
  {
   "cell_type": "markdown",
   "id": "f4e53f9d",
   "metadata": {},
   "source": [
    "function 2 sigma"
   ]
  },
  {
   "cell_type": "code",
   "execution_count": null,
   "id": "75240214",
   "metadata": {},
   "outputs": [],
   "source": [
    "def sigma(W,a):\n",
    "    for i in range(len(w)):\n",
    "        sum1=sum1+w[i]*a[i]\n",
    "    return sum1"
   ]
  },
  {
   "cell_type": "markdown",
   "id": "a378066a",
   "metadata": {},
   "source": [
    "function 3 error"
   ]
  },
  {
   "cell_type": "code",
   "execution_count": null,
   "id": "3d3e3ac2",
   "metadata": {},
   "outputs": [],
   "source": [
    "def error(y,y_target):\n",
    "    error1=y(1-y)(y_target-y)\n",
    "    return error"
   ]
  },
  {
   "cell_type": "code",
   "execution_count": 5,
   "id": "69027bd5",
   "metadata": {},
   "outputs": [],
   "source": [
    "learning_rate=0.5\n",
    "output=1"
   ]
  },
  {
   "cell_type": "code",
   "execution_count": null,
   "id": "6b1dae25",
   "metadata": {},
   "outputs": [],
   "source": [
    "input1=[0.35,0.9]\n",
    "hidden_layer1_w=[0.1,0.8,0.4,0.6]\n",
    "hidden_layer1_y=[0,0]\n",
    "hidden_layer1_b=[1,1,1]\n",
    "a1=sigma(hidden_layer1_w[:2],input1)\n",
    "\n",
    "a2=sigma(hidden_layer1_w[2:],input1)\n",
    "\n",
    "\n",
    "hidden_layer1_error=[0,0]\n",
    "output_layer_w=[0.3,0.9]\n",
    "output_layer_y=[0,0]\n"
   ]
  }
 ],
 "metadata": {
  "kernelspec": {
   "display_name": "Python 3 (ipykernel)",
   "language": "python",
   "name": "python3"
  },
  "language_info": {
   "codemirror_mode": {
    "name": "ipython",
    "version": 3
   },
   "file_extension": ".py",
   "mimetype": "text/x-python",
   "name": "python",
   "nbconvert_exporter": "python",
   "pygments_lexer": "ipython3",
   "version": "3.11.3"
  }
 },
 "nbformat": 4,
 "nbformat_minor": 5
}
