{
 "cells": [
  {
   "cell_type": "markdown",
   "id": "53bd7de4",
   "metadata": {},
   "source": [
    "# topic 1 Binary classifier"
   ]
  },
  {
   "cell_type": "code",
   "execution_count": 1,
   "id": "be16cbf5",
   "metadata": {},
   "outputs": [
    {
     "name": "stdout",
     "output_type": "stream",
     "text": [
      "Cat\n"
     ]
    }
   ],
   "source": [
    "prediction=0.45\n",
    "if prediction < 0.5:\n",
    "    print(\"Cat\")\n",
    "else:\n",
    "    print(\"Dog\")"
   ]
  },
  {
   "cell_type": "markdown",
   "id": "5b6a59df",
   "metadata": {},
   "source": [
    "## topic 2 Neural Network basic structure\n",
    "Weight\n",
    "bias\n",
    "neuron\n",
    "input \n",
    "output\n",
    "layers \n",
    "\n"
   ]
  },
  {
   "cell_type": "code",
   "execution_count": 5,
   "id": "afa79251",
   "metadata": {},
   "outputs": [
    {
     "name": "stdout",
     "output_type": "stream",
     "text": [
      "[3.3, 40923.0, 5.061, 9.3325, 3.38]\n"
     ]
    }
   ],
   "source": [
    "X=[3,120000,6,17,1]\n",
    "n_w=[[0.1],[0.341],[0.3435],[0.3725],[.38]]\n",
    "bias=3\n",
    "n_vals=[]\n",
    "for i in range(0,len(X)):\n",
    "    n_vals.append((X[i]*n_w[i][0])+bias)\n",
    "\n",
    "print(n_vals)"
   ]
  },
  {
   "cell_type": "markdown",
   "id": "ffdfdd73",
   "metadata": {},
   "source": [
    "## task 3 sigmoid relu activation funciton"
   ]
  },
  {
   "cell_type": "code",
   "execution_count": 7,
   "id": "04f07794",
   "metadata": {},
   "outputs": [
    {
     "data": {
      "text/plain": [
       "0.9525741268224334"
      ]
     },
     "execution_count": 7,
     "metadata": {},
     "output_type": "execute_result"
    }
   ],
   "source": [
    "import numpy as np\n",
    "x=3\n",
    "sigval=1/(1+np.exp(-x))\n",
    "sigval"
   ]
  },
  {
   "cell_type": "code",
   "execution_count": 8,
   "id": "7ae42329",
   "metadata": {},
   "outputs": [
    {
     "data": {
      "text/plain": [
       "1.0"
      ]
     },
     "execution_count": 8,
     "metadata": {},
     "output_type": "execute_result"
    }
   ],
   "source": [
    "1/(1+np.exp(-X[1]))"
   ]
  },
  {
   "cell_type": "code",
   "execution_count": 9,
   "id": "3e2bb381",
   "metadata": {},
   "outputs": [
    {
     "data": {
      "text/plain": [
       "0.9975273768433653"
      ]
     },
     "execution_count": 9,
     "metadata": {},
     "output_type": "execute_result"
    }
   ],
   "source": [
    "1/(1+np.exp(-X[2]))"
   ]
  },
  {
   "cell_type": "code",
   "execution_count": 10,
   "id": "9bcde2f6",
   "metadata": {},
   "outputs": [
    {
     "data": {
      "text/plain": [
       "0.9999999586006244"
      ]
     },
     "execution_count": 10,
     "metadata": {},
     "output_type": "execute_result"
    }
   ],
   "source": [
    "1/(1+np.exp(-X[3]))"
   ]
  },
  {
   "cell_type": "code",
   "execution_count": 11,
   "id": "3afb80ab",
   "metadata": {},
   "outputs": [
    {
     "data": {
      "text/plain": [
       "0.7310585786300049"
      ]
     },
     "execution_count": 11,
     "metadata": {},
     "output_type": "execute_result"
    }
   ],
   "source": [
    "1/(1+np.exp(-X[4]))"
   ]
  },
  {
   "cell_type": "code",
   "execution_count": 12,
   "id": "3b145345",
   "metadata": {},
   "outputs": [
    {
     "data": {
      "text/plain": [
       "3"
      ]
     },
     "execution_count": 12,
     "metadata": {},
     "output_type": "execute_result"
    }
   ],
   "source": [
    "max(0.0, 3)"
   ]
  },
  {
   "cell_type": "code",
   "execution_count": 13,
   "id": "efd907d1",
   "metadata": {},
   "outputs": [
    {
     "data": {
      "text/plain": [
       "120000"
      ]
     },
     "execution_count": 13,
     "metadata": {},
     "output_type": "execute_result"
    }
   ],
   "source": [
    "max(0.0, 120000)"
   ]
  },
  {
   "cell_type": "code",
   "execution_count": 14,
   "id": "1863c077",
   "metadata": {},
   "outputs": [
    {
     "data": {
      "text/plain": [
       "6"
      ]
     },
     "execution_count": 14,
     "metadata": {},
     "output_type": "execute_result"
    }
   ],
   "source": [
    "max(0.0, 6)"
   ]
  },
  {
   "cell_type": "code",
   "execution_count": 15,
   "id": "d23adc27",
   "metadata": {},
   "outputs": [
    {
     "name": "stdout",
     "output_type": "stream",
     "text": [
      "[0.30000000000000004, 40920.0, 2.061, 6.3325, 0.38]\n"
     ]
    }
   ],
   "source": [
    "X=[3,120000,6,17,1]\n",
    "n_w=[[0.1],[0.341],[0.3435],[0.3725],[.38]]\n",
    "bias=3\n",
    "n_vals=[]\n",
    "for i in range(0,len(X)):\n",
    "    n_vals.append((X[i]*n_w[i][0]))\n",
    "\n",
    "print(n_vals)"
   ]
  },
  {
   "cell_type": "code",
   "execution_count": 17,
   "id": "f65ae45b",
   "metadata": {},
   "outputs": [
    {
     "name": "stdout",
     "output_type": "stream",
     "text": [
      "40929.0735\n"
     ]
    }
   ],
   "source": [
    "sigma=0\n",
    "for i in range(0,len(n_vals)):\n",
    "    sigma+=n_vals[i]\n",
    "print(sigma)"
   ]
  },
  {
   "cell_type": "code",
   "execution_count": 19,
   "id": "693dca83",
   "metadata": {},
   "outputs": [
    {
     "data": {
      "text/plain": [
       "40932.0735"
      ]
     },
     "execution_count": 19,
     "metadata": {},
     "output_type": "execute_result"
    }
   ],
   "source": [
    "layer1output=max(0.0, (sigma+bias))\n",
    "layer1output"
   ]
  },
  {
   "cell_type": "code",
   "execution_count": 20,
   "id": "d2708fe5",
   "metadata": {},
   "outputs": [
    {
     "data": {
      "text/plain": [
       "1.0"
      ]
     },
     "execution_count": 20,
     "metadata": {},
     "output_type": "execute_result"
    }
   ],
   "source": [
    "1/(1+np.exp(-layer1output))"
   ]
  },
  {
   "cell_type": "markdown",
   "id": "cb804c6a",
   "metadata": {},
   "source": [
    "# task4 cost function"
   ]
  },
  {
   "cell_type": "code",
   "execution_count": 26,
   "id": "98bc6a36",
   "metadata": {},
   "outputs": [
    {
     "name": "stdout",
     "output_type": "stream",
     "text": [
      "Accuracy: 0.7\n"
     ]
    }
   ],
   "source": [
    "predicted_values=[1,0,0,1,0,1,1,1,0,0]\n",
    "ground_truth=[1,1,0,0,0,1,1,1,1,0]\n",
    "truth=0\n",
    "total=len(predicted_values)\n",
    "for i in range(0,total):\n",
    "    if predicted_values[i]==ground_truth[i]:\n",
    "        truth+=1\n",
    "        \n",
    "print(\"Accuracy:\",truth/total)"
   ]
  },
  {
   "cell_type": "markdown",
   "id": "eeff97a7",
   "metadata": {},
   "source": [
    "## premade"
   ]
  },
  {
   "cell_type": "code",
   "execution_count": 27,
   "id": "b3a3a6c7",
   "metadata": {},
   "outputs": [
    {
     "name": "stdout",
     "output_type": "stream",
     "text": [
      "[4.62748454]\n"
     ]
    }
   ],
   "source": [
    "def BinaryCrossEntropy(y_true, y_pred):\n",
    "    y_pred = np.clip(y_pred, 1e-7, 1 - 1e-7)\n",
    "    term_0 = (1-y_true) * np.log(1-y_pred + 1e-7)\n",
    "    term_1 = y_true * np.log(y_pred + 1e-7)\n",
    "    return -np.mean(term_0+term_1, axis=0)\n",
    "\n",
    "print(BinaryCrossEntropy(np.array(ground_truth).reshape(-1, 1), \n",
    "                         np.array(predicted_values).reshape(-1, 1)))"
   ]
  },
  {
   "cell_type": "code",
   "execution_count": 35,
   "id": "1a880c12",
   "metadata": {},
   "outputs": [
    {
     "name": "stdout",
     "output_type": "stream",
     "text": [
      "[0.3123, 0.312, 0.36, 0.317, 0.31]\n",
      "[0.3123, 0.312, 0.36, 0.317, 0.31]\n",
      "[0.3123, 0.312, 0.36, 0.317, 0.31]\n",
      "[0.3123, 0.312, 0.36, 0.317, 0.31]\n",
      "[0.3123, 0.312, 0.36, 0.317, 0.31]\n"
     ]
    },
    {
     "data": {
      "text/plain": [
       "[{'n_vals': [0.0022714868701267056,\n",
       "   0.057078983332675734,\n",
       "   0.13590962613358454,\n",
       "   0.2911114852649161,\n",
       "   0.02140122932990765],\n",
       "  'n_w': [0.07127164567708011,\n",
       "   0.3180354969904077,\n",
       "   0.1268617664830679,\n",
       "   0.653711172426895,\n",
       "   0.8909683112716221],\n",
       "  'sigma': 0.5077728109312107,\n",
       "  'layer1output': 3.5077728109312107,\n",
       "  'predicted': 0.9709081219391797,\n",
       "  'original': 1,\n",
       "  'BCE': array([0.02952333])},\n",
       " {'n_vals': [0.2371929659951093,\n",
       "   0.10458041042197674,\n",
       "   0.17774115481831934,\n",
       "   0.26984837185098737,\n",
       "   0.2650403099228822],\n",
       "  'n_w': [0.07127164567708011,\n",
       "   0.3180354969904077,\n",
       "   0.1268617664830679,\n",
       "   0.653711172426895,\n",
       "   0.8909683112716221],\n",
       "  'sigma': 1.0544032130092749,\n",
       "  'layer1output': 4.054403213009275,\n",
       "  'predicted': 0.9829499189281367,\n",
       "  'original': 1,\n",
       "  'BCE': array([0.01719701])},\n",
       " {'n_vals': [0.14646688868851065,\n",
       "   0.2381206787589452,\n",
       "   0.15370380946970086,\n",
       "   0.2490821835983351,\n",
       "   0.1518306046722426],\n",
       "  'n_w': [0.07127164567708011,\n",
       "   0.3180354969904077,\n",
       "   0.1268617664830679,\n",
       "   0.653711172426895,\n",
       "   0.8909683112716221],\n",
       "  'sigma': 0.9392041651877344,\n",
       "  'layer1output': 3.9392041651877343,\n",
       "  'predicted': 0.9809079043213473,\n",
       "  'original': 1,\n",
       "  'BCE': array([0.0192766])},\n",
       " {'n_vals': [0.038524745232879354,\n",
       "   0.30994209017454505,\n",
       "   0.01039450749140217,\n",
       "   0.10052163487661867,\n",
       "   0.22289337458635577],\n",
       "  'n_w': [0.07127164567708011,\n",
       "   0.3180354969904077,\n",
       "   0.1268617664830679,\n",
       "   0.653711172426895,\n",
       "   0.8909683112716221],\n",
       "  'sigma': 0.682276352361801,\n",
       "  'layer1output': 3.682276352361801,\n",
       "  'predicted': 0.975452138489533,\n",
       "  'original': 1,\n",
       "  'BCE': array([0.02485408])},\n",
       " {'n_vals': [0.02225813494495212,\n",
       "   0.0992270750610072,\n",
       "   0.04567023593390444,\n",
       "   0.20722644165932572,\n",
       "   0.27620017649420286],\n",
       "  'n_w': [0.07127164567708011,\n",
       "   0.3180354969904077,\n",
       "   0.1268617664830679,\n",
       "   0.653711172426895,\n",
       "   0.8909683112716221],\n",
       "  'sigma': 0.6505820640933924,\n",
       "  'layer1output': 3.6505820640933924,\n",
       "  'predicted': 0.974681664522822,\n",
       "  'original': 1,\n",
       "  'BCE': array([0.02564426])}]"
      ]
     },
     "execution_count": 35,
     "metadata": {},
     "output_type": "execute_result"
    }
   ],
   "source": [
    "epoch=5\n",
    "\n",
    "epoch_info=[]\n",
    "X1=[[.3123,.31200,.36,.317,.31]]\n",
    "import random\n",
    "for i in range(len(X1)):\n",
    "    for j in range(epoch):\n",
    "        info={}\n",
    "        X=X1[i]\n",
    "        print(X)\n",
    "        for i1 in range(len(X)):\n",
    "            n_w[i1]=random.uniform(0, 1)\n",
    "        bias=3\n",
    "        n_vals=[]\n",
    "        for i2 in range(0,len(X)):\n",
    "            n_vals.append((X[i2]*n_w[i2]))\n",
    "\n",
    "        sigma=0\n",
    "        for i3 in range(0,len(n_vals)):\n",
    "            sigma+=n_vals[i3]\n",
    "        layer1output=max(0.0, (sigma+bias))\n",
    "        predicted=1/(1+np.exp(-layer1output))\n",
    "        original=1\n",
    "        BCE=(BinaryCrossEntropy(np.array([original]).reshape(-1, 1), \n",
    "                         np.array([predicted]).reshape(-1, 1)))\n",
    "        info[\"n_vals\"]=n_vals\n",
    "        info[\"n_w\"]=n_w\n",
    "        info[\"sigma\"]=sigma\n",
    "        info[\"layer1output\"]=layer1output\n",
    "        info[\"predicted\"]=predicted\n",
    "        info[\"original\"]=original\n",
    "        info[\"BCE\"]=BCE\n",
    "#         info[\"layer2output\"]=layer2output\n",
    "        \n",
    "        epoch_info.append(info)\n",
    "\n",
    "epoch_info    \n",
    "    \n",
    "    \n",
    "    "
   ]
  },
  {
   "cell_type": "code",
   "execution_count": null,
   "id": "6125b45e",
   "metadata": {},
   "outputs": [],
   "source": []
  }
 ],
 "metadata": {
  "kernelspec": {
   "display_name": "Python 3 (ipykernel)",
   "language": "python",
   "name": "python3"
  },
  "language_info": {
   "codemirror_mode": {
    "name": "ipython",
    "version": 3
   },
   "file_extension": ".py",
   "mimetype": "text/x-python",
   "name": "python",
   "nbconvert_exporter": "python",
   "pygments_lexer": "ipython3",
   "version": "3.11.3"
  }
 },
 "nbformat": 4,
 "nbformat_minor": 5
}
